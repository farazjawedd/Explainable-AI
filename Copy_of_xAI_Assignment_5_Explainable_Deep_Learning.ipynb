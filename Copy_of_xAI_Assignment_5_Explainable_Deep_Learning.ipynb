{
  "nbformat": 4,
  "nbformat_minor": 0,
  "metadata": {
    "colab": {
      "provenance": [],
      "authorship_tag": "ABX9TyMLY72PfsWC9A/QrBm09/6e",
      "include_colab_link": true
    },
    "kernelspec": {
      "name": "python3",
      "display_name": "Python 3"
    },
    "language_info": {
      "name": "python"
    }
  },
  "cells": [
    {
      "cell_type": "markdown",
      "metadata": {
        "id": "view-in-github",
        "colab_type": "text"
      },
      "source": [
        "<a href=\"https://colab.research.google.com/github/farazjawedd/Explainable-AI/blob/main/Copy_of_xAI_Assignment_5_Explainable_Deep_Learning.ipynb\" target=\"_parent\"><img src=\"https://colab.research.google.com/assets/colab-badge.svg\" alt=\"Open In Colab\"/></a>"
      ]
    },
    {
      "cell_type": "markdown",
      "source": [
        "## AIPI 590\n",
        "### Assignment 5: Explainable Deep Learning\n",
        "\n",
        "#### Faraz Jawed - fj49"
      ],
      "metadata": {
        "id": "hFRbZ0dX78wE"
      }
    },
    {
      "cell_type": "markdown",
      "source": [
        "### Hypothesis:\n",
        "\n",
        "*   **Null Hypothesis (H0):** There is no significant difference in the saliency patterns of a CNN model when classifying images of natural objects versus man-made objects in the CIFAR-10 dataset.\n",
        "\n",
        "*   **Alternative Hypothesis (H1):** The CNN model shows significantly different saliency patterns when classifying images of natural objects compared to man-made objects in the CIFAR-10 dataset, suggesting it relies on different features for these two broad categories."
      ],
      "metadata": {
        "id": "Ivh43SNJzxqR"
      }
    },
    {
      "cell_type": "markdown",
      "source": [
        "### Code Demonstration"
      ],
      "metadata": {
        "id": "VWXJOIiB81oW"
      }
    },
    {
      "cell_type": "code",
      "source": [
        "import torch\n",
        "import torchvision\n",
        "import torchvision.transforms as transforms\n",
        "import torch.nn as nn\n",
        "import torch.optim as optim\n",
        "import matplotlib.pyplot as plt\n",
        "import numpy as np\n"
      ],
      "metadata": {
        "id": "Ea03yMb4803o"
      },
      "execution_count": null,
      "outputs": []
    },
    {
      "cell_type": "code",
      "source": [
        "# Loading CIFAR-10 dataset\n",
        "transform = transforms.Compose([transforms.ToTensor(), transforms.Normalize((0.5, 0.5, 0.5), (0.5, 0.5, 0.5))])\n",
        "trainset = torchvision.datasets.CIFAR10(root='./data', train=True, download=True, transform=transform)\n",
        "trainloader = torch.utils.data.DataLoader(trainset, batch_size=4, shuffle=True, num_workers=2)\n",
        "\n",
        "# Define CNN model (took the architecture from gpt)\n",
        "class Net(nn.Module):\n",
        "    def __init__(self):\n",
        "        super(Net, self).__init__()\n",
        "        self.conv1 = nn.Conv2d(3, 6, 5)\n",
        "        self.pool = nn.MaxPool2d(2, 2)\n",
        "        self.conv2 = nn.Conv2d(6, 16, 5)\n",
        "        self.fc1 = nn.Linear(16 * 5 * 5, 120)\n",
        "        self.fc2 = nn.Linear(120, 84)\n",
        "        self.fc3 = nn.Linear(84, 10)\n",
        "\n",
        "    def forward(self, x):\n",
        "        x = self.pool(torch.relu(self.conv1(x)))\n",
        "        x = self.pool(torch.relu(self.conv2(x)))\n",
        "        x = x.view(-1, 16 * 5 * 5)\n",
        "        x = torch.relu(self.fc1(x))\n",
        "        x = torch.relu(self.fc2(x))\n",
        "        x = self.fc3(x)\n",
        "        return x\n",
        "\n",
        "net = Net()\n",
        "\n",
        "criterion = nn.CrossEntropyLoss()\n",
        "optimizer = optim.SGD(net.parameters(), lr=0.001, momentum=0.9)\n",
        "\n",
        "for epoch in range(2):\n",
        "    running_loss = 0.0\n",
        "    for i, data in enumerate(trainloader, 0):\n",
        "        inputs, labels = data\n",
        "        optimizer.zero_grad()\n",
        "        outputs = net(inputs)\n",
        "        loss = criterion(outputs, labels)\n",
        "        loss.backward()\n",
        "        optimizer.step()\n",
        "        running_loss += loss.item()\n",
        "    print(f'Epoch {epoch + 1}, Loss: {running_loss / len(trainloader)}')\n",
        "\n",
        "print('Finished Training')\n",
        "\n",
        "# Function to compute saliency map\n",
        "def get_saliency_map(image, label):\n",
        "    image.requires_grad_()\n",
        "    output = net(image.unsqueeze(0))\n",
        "    output[0, label].backward()\n",
        "    return image.grad.abs().sum(dim=1).squeeze()\n",
        "\n",
        "# Analyze saliency patterns\n",
        "natural_objects = [2, 3, 4, 5, 6, 7]  # bird, cat, deer, dog, frog, horse\n",
        "man_made_objects = [0, 1, 8, 9]  # airplane, automobile, ship, truck\n",
        "\n",
        "natural_saliency = []\n",
        "man_made_saliency = []\n",
        "\n",
        "for images, labels in trainloader:\n",
        "    for image, label in zip(images, labels):\n",
        "        saliency = get_saliency_map(image, label)\n",
        "        if label.item() in natural_objects:\n",
        "            natural_saliency.append(saliency.mean().item())\n",
        "        elif label.item() in man_made_objects:\n",
        "            man_made_saliency.append(saliency.mean().item())\n",
        "\n",
        "# Analyze results\n",
        "print(f\"Average saliency for natural objects: {np.mean(natural_saliency):.4f}\")\n",
        "print(f\"Average saliency for man-made objects: {np.mean(man_made_saliency):.4f}\")\n",
        "\n",
        "# Perform statistical test\n",
        "from scipy import stats\n",
        "t_stat, p_value = stats.ttest_ind(natural_saliency, man_made_saliency)\n",
        "print(f\"T-statistic: {t_stat}, p-value: {p_value}\")\n",
        "\n",
        "# Visualize results\n",
        "plt.figure(figsize=(10, 6))\n",
        "plt.boxplot([natural_saliency, man_made_saliency], labels=['Natural Objects', 'Man-made Objects'])\n",
        "plt.title('Saliency Distribution: Natural vs Man-made Objects')\n",
        "plt.ylabel('Average Saliency')\n",
        "plt.show()\n"
      ],
      "metadata": {
        "colab": {
          "base_uri": "https://localhost:8080/",
          "height": 761
        },
        "id": "1u9tHJy41cna",
        "outputId": "91233490-3784-4861-e315-1fa77946b748"
      },
      "execution_count": null,
      "outputs": [
        {
          "output_type": "stream",
          "name": "stdout",
          "text": [
            "Downloading https://www.cs.toronto.edu/~kriz/cifar-10-python.tar.gz to ./data/cifar-10-python.tar.gz\n"
          ]
        },
        {
          "output_type": "stream",
          "name": "stderr",
          "text": [
            "100%|██████████| 170M/170M [00:02<00:00, 78.7MB/s]\n"
          ]
        },
        {
          "output_type": "stream",
          "name": "stdout",
          "text": [
            "Extracting ./data/cifar-10-python.tar.gz to ./data\n",
            "Epoch 1, Loss: 1.6950927955043316\n",
            "Epoch 2, Loss: 1.3329705037540198\n",
            "Finished Training\n",
            "Average saliency for natural objects: 0.6079\n",
            "Average saliency for man-made objects: 0.7239\n",
            "T-statistic: -63.85854476226622, p-value: 0.0\n"
          ]
        },
        {
          "output_type": "stream",
          "name": "stderr",
          "text": [
            "<ipython-input-8-ff0dc417a67c>:87: MatplotlibDeprecationWarning: The 'labels' parameter of boxplot() has been renamed 'tick_labels' since Matplotlib 3.9; support for the old name will be dropped in 3.11.\n",
            "  plt.boxplot([natural_saliency, man_made_saliency], labels=['Natural Objects', 'Man-made Objects'])\n"
          ]
        },
        {
          "output_type": "display_data",
          "data": {
            "text/plain": [
              "<Figure size 1000x600 with 1 Axes>"
            ],
            "image/png": "[encoded data removed]"
          },
          "metadata": {}
        }
      ]
    },
    {
      "cell_type": "markdown",
      "source": [
        "Based on the experimental results, the average saliency for man-made objects (0.7239) is significantly higher than that for natural objects (0.6079). The computed T-statistic of -63.8585 and corresponding p-value of 0.0 provide strong statistical evidence to reject the null hypothesis.\n",
        "\n",
        "Therefore, we conclude that the CNN model exhibits significantly different saliency patterns when classifying natural objects compared to man-made objects within the CIFAR-10 dataset. This indicates that the model relies on different features or image regions to distinguish between these two categories."
      ],
      "metadata": {
        "id": "P25-EXKL8_kS"
      }
    }
  ]
}